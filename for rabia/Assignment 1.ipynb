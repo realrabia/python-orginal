{
 "cells": [
  {
   "cell_type": "code",
   "execution_count": 1,
   "id": "3f0a5f4e",
   "metadata": {},
   "outputs": [
    {
     "name": "stdout",
     "output_type": "stream",
     "text": [
      "Twinkle, twinkle, little star\n",
      "                How I wonder what you are\n",
      "                        Up above the world so high\n",
      "                        Like a diamond in the sky\n",
      "Twinkle, twinkle, little star\n",
      "         How I wonder what you are\n"
     ]
    }
   ],
   "source": [
    "# Q no 1\n",
    "a = \"\"\"Twinkle, twinkle, little star\n",
    "                How I wonder what you are\n",
    "                        Up above the world so high\n",
    "                        Like a diamond in the sky\n",
    "Twinkle, twinkle, little star\n",
    "         How I wonder what you are\"\"\"\n",
    "print(a)"
   ]
  },
  {
   "cell_type": "code",
   "execution_count": 2,
   "id": "4f1e3164",
   "metadata": {},
   "outputs": [
    {
     "name": "stdout",
     "output_type": "stream",
     "text": [
      "3.9.7 (default, Sep 16 2021, 16:59:28) [MSC v.1916 64 bit (AMD64)]\n"
     ]
    }
   ],
   "source": [
    "# Q no 2\n",
    "import sys\n",
    "print (sys.version)"
   ]
  },
  {
   "cell_type": "code",
   "execution_count": 4,
   "id": "a38f37b7",
   "metadata": {},
   "outputs": [
    {
     "name": "stdout",
     "output_type": "stream",
     "text": [
      "2022-01-01 15:31:29.470088\n"
     ]
    }
   ],
   "source": [
    "# Q no 3\n",
    "import datetime\n",
    "x = datetime.datetime.now()\n",
    "print (x)"
   ]
  },
  {
   "cell_type": "code",
   "execution_count": 5,
   "id": "2b052c48",
   "metadata": {},
   "outputs": [
    {
     "name": "stdout",
     "output_type": "stream",
     "text": [
      "Enter radius of a circle 4\n",
      "area of a circle 50.24\n"
     ]
    }
   ],
   "source": [
    "# Q no 4\n",
    "x = input (\"Enter radius of a circle \")\n",
    "r = int(x)\n",
    "a = 3.14*r**2\n",
    "print (\"area of a circle\",a)"
   ]
  },
  {
   "cell_type": "code",
   "execution_count": 6,
   "id": "77068cee",
   "metadata": {},
   "outputs": [
    {
     "name": "stdout",
     "output_type": "stream",
     "text": [
      "Enter your first name:Muhammad\n",
      "Enter your last name:Faisal\n",
      "Faisal Muhammad\n"
     ]
    }
   ],
   "source": [
    "# Q no 5\n",
    "f = input(\"Enter your first name:\")\n",
    "l = input(\"Enter your last name:\")\n",
    "print(l,f)"
   ]
  },
  {
   "cell_type": "code",
   "execution_count": 7,
   "id": "f4cf27ee",
   "metadata": {},
   "outputs": [
    {
     "name": "stdout",
     "output_type": "stream",
     "text": [
      "Enter first number: 4\n",
      "Enter second number: 5\n",
      "sum of 4 and 5 = 9\n"
     ]
    }
   ],
   "source": [
    "# Q no 6\n",
    "a=int(input(\"Enter first number: \"))\n",
    "b=int(input(\"Enter second number: \"))\n",
    "print(\"sum of\",a, \"and\",b, \"=\",a+b)"
   ]
  },
  {
   "cell_type": "code",
   "execution_count": null,
   "id": "a39db90b",
   "metadata": {},
   "outputs": [],
   "source": [
    "print(\"hello world\")"
   ]
  }
 ],
 "metadata": {
  "kernelspec": {
   "display_name": "Python 3 (ipykernel)",
   "language": "python",
   "name": "python3"
  },
  "language_info": {
   "codemirror_mode": {
    "name": "ipython",
    "version": 3
   },
   "file_extension": ".py",
   "mimetype": "text/x-python",
   "name": "python",
   "nbconvert_exporter": "python",
   "pygments_lexer": "ipython3",
   "version": "3.9.7"
  }
 },
 "nbformat": 4,
 "nbformat_minor": 5
}
